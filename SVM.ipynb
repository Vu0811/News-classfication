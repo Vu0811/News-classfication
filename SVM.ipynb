{
 "cells": [
  {
   "cell_type": "markdown",
   "metadata": {},
   "source": [
    "# Import necessary libraries"
   ]
  },
  {
   "cell_type": "code",
   "execution_count": null,
   "metadata": {},
   "outputs": [],
   "source": [
    "import csv\n",
    "import nltk\n",
    "from sklearn.svm import SVC\n",
    "from sklearn.preprocessing import LabelEncoder\n",
    "from sklearn.model_selection import train_test_split\n",
    "from sklearn.feature_extraction.text import CountVectorizer, TfidfVectorizer\n",
    "from sklearn.metrics import classification_report \n",
    "from sklearn.feature_selection import VarianceThreshold\n",
    "import json\n",
    "import copy\n",
    "import pickle"
   ]
  },
  {
   "cell_type": "markdown",
   "metadata": {},
   "source": [
    "# Load data from .csv file"
   ]
  },
  {
   "cell_type": "code",
   "execution_count": null,
   "metadata": {},
   "outputs": [],
   "source": [
    "category = []\n",
    "content = []\n",
    "\n",
    "with open('D:/PythonProject/News-classfication/Preprocessing/output.csv', 'r', encoding='utf-8') as file:\n",
    "    csvreader = csv.reader(file)\n",
    "    fields = next(csvreader)\n",
    "    for row in csvreader:\n",
    "        category.append(row[0])\n",
    "        content.append(str(row[1]))\n",
    "\n",
    "#print(content)"
   ]
  },
  {
   "cell_type": "markdown",
   "metadata": {},
   "source": [
    "# Preprocessing\n",
    "Convert labels into numeric values"
   ]
  },
  {
   "cell_type": "code",
   "execution_count": null,
   "metadata": {},
   "outputs": [],
   "source": [
    "encoder = LabelEncoder()\n",
    "Y = encoder.fit_transform(category)\n",
    "\n",
    "#for i in range(len(category)):\n",
    "#   print(category[i], Y[i])\n",
    "\n",
    "\n",
    "# Split data into train, test and validation set\n",
    "X_train, X_test, Y_train, Y_test = train_test_split(content, Y)\n",
    "X_train, X_validation, Y_train, Y_validation = train_test_split(X_train, Y_train)\n",
    "print(len(X_train))\n",
    "print(len(X_validation))\n",
    "print(len(X_test))"
   ]
  },
  {
   "cell_type": "markdown",
   "metadata": {},
   "source": [
    "Split the data"
   ]
  },
  {
   "cell_type": "markdown",
   "metadata": {},
   "source": [
    "## TfIdf-Vectorize data\n",
    "Tf-Idf stands for Term Frequency-Inverse Document Frequency. It is a techinque to quantify a word in documents, we generally compute a weight to each word which signifies the importance of the word which signifies the importance of the word in the document and corpus."
   ]
  },
  {
   "cell_type": "code",
   "execution_count": null,
   "metadata": {},
   "outputs": [],
   "source": [
    "\"\"\"tfidf_vectorizer = TfidfVectorizer(analyzer='word',stop_words='english', max_df=0.8, min_df=3, sublinear_tf=True)\n",
    "\n",
    "tfidf_vectorizer.fit(X_train)\n",
    "X_train = tfidf_vectorizer.transform(X_train)\n",
    "X_validation = tfidf_vectorizer.transform(X_validation)\n",
    "X_test = tfidf_vectorizer.transform(X_test)\n",
    "print(X_train)\n",
    "\"\"\"\n",
    "\n",
    "tokenizer = nltk.tokenize.RegexpTokenizer(r\"\\w+\")\n",
    "stop_words = nltk.corpus.stopwords.words(\"english\")\n",
    "#print(stop_words)\n",
    "vectorizer = CountVectorizer(tokenizer=tokenizer.tokenize, stop_words=stop_words)\n",
    "print(vectorizer)\n",
    "\n",
    "vectorizer.fit(iter(X_train))\n",
    "X_train = vectorizer.transform(iter(X_train))\n",
    "X_validation = vectorizer.transform(iter(X_validation))\n",
    "X_test = vectorizer.transform(iter(X_test))\n",
    "print(X_train[2])"
   ]
  },
  {
   "cell_type": "markdown",
   "metadata": {},
   "source": [
    "# Feature Reduction"
   ]
  },
  {
   "cell_type": "code",
   "execution_count": null,
   "metadata": {},
   "outputs": [],
   "source": [
    "print(\"Number of features before reduction : \", X_train.shape[1])\n",
    "selection = VarianceThreshold(threshold=0.001)\n",
    "Xtr_whole = copy.deepcopy(X_train)\n",
    "Ytr_whole = copy.deepcopy(Y_train)\n",
    "selection.fit(X_train)\n",
    "X_train = selection.transform(X_train)\n",
    "X_validation = selection.transform(X_validation)\n",
    "X_test = selection.transform(X_test)\n",
    "print(\"Number of features after reduction : \", X_train.shape[1])"
   ]
  },
  {
   "cell_type": "markdown",
   "metadata": {},
   "source": [
    "# Training model"
   ]
  },
  {
   "cell_type": "code",
   "execution_count": null,
   "metadata": {},
   "outputs": [],
   "source": [
    "svm_clf = SVC()\n",
    "svm_clf.fit(X_train, Y_train)\n",
    "prediction = svm_clf.predict(X_validation)\n",
    "\n",
    "#danh gia hieu nang\n",
    "\n",
    "print(classification_report(Y_validation, prediction, target_names=encoder.classes_))"
   ]
  },
  {
   "cell_type": "code",
   "execution_count": null,
   "metadata": {},
   "outputs": [],
   "source": [
    "from sklearn.naive_bayes import MultinomialNB\n",
    "nb = MultinomialNB()\n",
    "nb.fit(X_train, Y_train)\n",
    "prediction = nb.predict(X_validation)\n",
    "\n",
    "print(classification_report(Y_validation, prediction, target_names=encoder.classes_))"
   ]
  },
  {
   "cell_type": "markdown",
   "metadata": {},
   "source": [
    "# Saving model"
   ]
  },
  {
   "cell_type": "code",
   "execution_count": null,
   "metadata": {},
   "outputs": [],
   "source": [
    "with open('svm_model.pkl', 'wb') as file:\n",
    "    pickle.dump(svm_clf, file)"
   ]
  },
  {
   "cell_type": "markdown",
   "metadata": {},
   "source": [
    "# Load model and predict"
   ]
  },
  {
   "cell_type": "code",
   "execution_count": null,
   "metadata": {},
   "outputs": [],
   "source": [
    "file = open('D:/PythonProject/News-classfication/svm_model.pkl', 'rb+')\n",
    "clf = pickle.load(file)\n",
    "\n",
    "test_prediction = svm_clf.predict(X_validation)\n",
    "print(classification_report(Y_validation, prediction, target_names=encoder.classes_))\n"
   ]
  },
  {
   "cell_type": "markdown",
   "metadata": {},
   "source": [
    "# Report on test set"
   ]
  },
  {
   "cell_type": "code",
   "execution_count": null,
   "metadata": {},
   "outputs": [],
   "source": [
    "predict = svm_clf.predict(X_validation)\n",
    "print(classification_report(Y_validation, predict, target_names=encoder.classes_))\n"
   ]
  },
  {
   "cell_type": "markdown",
   "metadata": {},
   "source": [
    "# Predicting a single headline"
   ]
  },
  {
   "cell_type": "code",
   "execution_count": null,
   "metadata": {},
   "outputs": [],
   "source": [
    "from Preprocessing.xxx import preprocess\n",
    "\n",
    "# An example \n",
    "title = \"A man has been killed, polices have no way to find the crime\"\n",
    "title = preprocess(title)\n",
    "titles = []\n",
    "titles.append(title)\n",
    "titles = vectorizer.transform(titles)\n",
    "titles = selection.transform(titles)\n",
    "\n",
    "predict = svm_clf.predict(titles)\n",
    "print(encoder.inverse_transform(predict))"
   ]
  }
 ],
 "metadata": {
  "interpreter": {
   "hash": "438050c94c2a99b891d48ce512413dfd796e6ae83c3db6e35676f0b2c7f5ed53"
  },
  "kernelspec": {
   "display_name": "Python 3.8.3 64-bit ('venv': venv)",
   "language": "python",
   "name": "python3"
  },
  "language_info": {
   "codemirror_mode": {
    "name": "ipython",
    "version": 3
   },
   "file_extension": ".py",
   "mimetype": "text/x-python",
   "name": "python",
   "nbconvert_exporter": "python",
   "pygments_lexer": "ipython3",
   "version": "3.8.3"
  },
  "orig_nbformat": 4
 },
 "nbformat": 4,
 "nbformat_minor": 2
}
